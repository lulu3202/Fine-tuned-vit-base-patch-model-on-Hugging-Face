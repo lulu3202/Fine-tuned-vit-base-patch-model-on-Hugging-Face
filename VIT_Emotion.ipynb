{
 "cells": [
  {
   "cell_type": "code",
   "execution_count": 8,
   "id": "a89897f4-4b09-47dd-8558-2fc592e9269b",
   "metadata": {},
   "outputs": [],
   "source": [
    "#pip install transformers datasets evaluate accelerate pillow torchvision scikit-learn"
   ]
  },
  {
   "cell_type": "code",
   "execution_count": 6,
   "id": "f6588541-92b0-4ce0-9572-fc650f8f1ae9",
   "metadata": {
    "scrolled": true
   },
   "outputs": [
    {
     "data": {
      "application/vnd.jupyter.widget-view+json": {
       "model_id": "f49af29341af455eb045e37d709206e1",
       "version_major": 2,
       "version_minor": 0
      },
      "text/plain": [
       "VBox(children=(HTML(value='<center> <img\\nsrc=https://huggingface.co/front/assets/huggingface_logo-noborder.sv…"
      ]
     },
     "metadata": {},
     "output_type": "display_data"
    }
   ],
   "source": [
    "from huggingface_hub import notebook_login\n",
    "\n",
    "notebook_login()\n"
   ]
  },
  {
   "cell_type": "markdown",
   "id": "990cadc1-8164-47c7-a322-c8503943d3e0",
   "metadata": {},
   "source": [
    "## 1. Load Dataset"
   ]
  },
  {
   "cell_type": "code",
   "execution_count": 10,
   "id": "842c3bdd-9ab0-49a7-a594-75e818435ec3",
   "metadata": {},
   "outputs": [
    {
     "data": {
      "application/vnd.jupyter.widget-view+json": {
       "model_id": "175143a3be8d4d02af9556ee3f46655e",
       "version_major": 2,
       "version_minor": 0
      },
      "text/plain": [
       "Resolving data files:   0%|          | 0/800 [00:00<?, ?it/s]"
      ]
     },
     "metadata": {},
     "output_type": "display_data"
    },
    {
     "data": {
      "text/plain": [
       "Dataset({\n",
       "    features: ['image', 'label'],\n",
       "    num_rows: 800\n",
       "})"
      ]
     },
     "execution_count": 10,
     "metadata": {},
     "output_type": "execute_result"
    }
   ],
   "source": [
    "#split=\"train\": By specifying just \"train\", you are indicating that you want to load the entire training set without any slicing.\n",
    "\n",
    "from datasets import load_dataset\n",
    "\n",
    "dataset = load_dataset('FastJobs/Visual_Emotional_Analysis', split=\"train\")\n",
    "dataset\n"
   ]
  },
  {
   "cell_type": "code",
   "execution_count": 11,
   "id": "3bc5a94e-2adc-40c6-b234-30e50c307337",
   "metadata": {},
   "outputs": [],
   "source": [
    "dataset = dataset.train_test_split(test_size=0.2)"
   ]
  },
  {
   "cell_type": "code",
   "execution_count": 12,
   "id": "430232fe-b7d7-4d27-b396-565c7e246d63",
   "metadata": {},
   "outputs": [
    {
     "data": {
      "text/plain": [
       "{'image': <PIL.JpegImagePlugin.JpegImageFile image mode=RGB size=96x96>,\n",
       " 'label': 3}"
      ]
     },
     "execution_count": 12,
     "metadata": {},
     "output_type": "execute_result"
    }
   ],
   "source": [
    "dataset[\"train\"][0]\n"
   ]
  },
  {
   "cell_type": "code",
   "execution_count": 13,
   "id": "88e7af60-f56e-4c31-af5e-b5813f00bd70",
   "metadata": {},
   "outputs": [],
   "source": [
    "# dictionary that maps the label name to an integer and vice versa\n",
    "labels = dataset[\"train\"].features[\"label\"].names\n",
    "label2id, id2label = dict(), dict()\n",
    "for i, label in enumerate(labels):\n",
    "    label2id[label] = str(i)\n",
    "    id2label[str(i)] = label"
   ]
  },
  {
   "cell_type": "code",
   "execution_count": 14,
   "id": "bbd3b5f9-11bf-478f-a747-db4b6a71c3d6",
   "metadata": {},
   "outputs": [
    {
     "data": {
      "text/plain": [
       "'contempt'"
      ]
     },
     "execution_count": 14,
     "metadata": {},
     "output_type": "execute_result"
    }
   ],
   "source": [
    "id2label[str(1)]"
   ]
  },
  {
   "cell_type": "markdown",
   "id": "d7c8230d-b63f-4ced-bfba-c90cf6cfd007",
   "metadata": {},
   "source": [
    "## 2. Preprocess"
   ]
  },
  {
   "cell_type": "code",
   "execution_count": 15,
   "id": "0a167d8e-96e2-45bc-b93c-5cb87c603c8b",
   "metadata": {},
   "outputs": [
    {
     "name": "stderr",
     "output_type": "stream",
     "text": [
      "Fast image processor class <class 'transformers.models.vit.image_processing_vit_fast.ViTImageProcessorFast'> is available for this model. Using slow image processor class. To use the fast image processor class set `use_fast=True`.\n"
     ]
    }
   ],
   "source": [
    "#The next step is to load a ViT image processor to process the image into a tensor:\n",
    "\n",
    "from transformers import AutoImageProcessor\n",
    "\n",
    "checkpoint = \"google/vit-base-patch16-224-in21k\"\n",
    "image_processor = AutoImageProcessor.from_pretrained(checkpoint)"
   ]
  },
  {
   "cell_type": "code",
   "execution_count": 16,
   "id": "e81b8d21-5781-4d02-9919-740f121fb16f",
   "metadata": {},
   "outputs": [],
   "source": [
    "from torchvision.transforms import RandomResizedCrop, Compose, Normalize, ToTensor\n",
    "\n",
    "normalize = Normalize(mean=image_processor.image_mean, std=image_processor.image_std)\n",
    "size = (\n",
    "    image_processor.size[\"shortest_edge\"]\n",
    "    if \"shortest_edge\" in image_processor.size\n",
    "    else (image_processor.size[\"height\"], image_processor.size[\"width\"])\n",
    ")\n",
    "_transforms = Compose([RandomResizedCrop(size), ToTensor(), normalize])"
   ]
  },
  {
   "cell_type": "code",
   "execution_count": 17,
   "id": "c2a346bc-caa8-4461-8779-2d58816e5892",
   "metadata": {},
   "outputs": [],
   "source": [
    "#create a preprocessing function to apply the transforms and return the pixel_values - the inputs to the model - of the image\n",
    "\n",
    "def transforms(examples):\n",
    "    examples[\"pixel_values\"] = [_transforms(img.convert(\"RGB\")) for img in examples[\"image\"]]\n",
    "    del examples[\"image\"]\n",
    "    return examples"
   ]
  },
  {
   "cell_type": "code",
   "execution_count": 18,
   "id": "1e1e771e-4e4f-4303-a7f4-fc2f971063f0",
   "metadata": {},
   "outputs": [],
   "source": [
    "#To apply the preprocessing function over the entire dataset, use 🤗 Datasets with_transform method\n",
    "dataset = dataset.with_transform(transforms)"
   ]
  },
  {
   "cell_type": "code",
   "execution_count": 19,
   "id": "66048f78-a142-4b3f-aa51-6ed8478f079d",
   "metadata": {},
   "outputs": [],
   "source": [
    "#Now create a batch of examples using DefaultDataCollator. Unlike other data collators in 🤗 Transformers, the DefaultDataCollator does not apply additional preprocessing such as padding\n",
    "from transformers import DefaultDataCollator\n",
    "\n",
    "data_collator = DefaultDataCollator()"
   ]
  },
  {
   "cell_type": "markdown",
   "id": "a2ba3b2b-07a3-428d-8c31-36b4519fbe0e",
   "metadata": {},
   "source": [
    "## 3. Evaluate"
   ]
  },
  {
   "cell_type": "code",
   "execution_count": 20,
   "id": "0e634385-dd08-420d-a5cb-1aedb17c6191",
   "metadata": {},
   "outputs": [],
   "source": [
    "#Including a metric during training is often helpful for evaluating your model’s performance. You can quickly load an evaluation method with the 🤗 Evaluate library.\n",
    "import numpy as np\n",
    "import evaluate\n",
    "\n",
    "# Load the accuracy metric\n",
    "accuracy = evaluate.load(\"accuracy\")\n",
    "\n",
    "def compute_metrics(eval_pred):\n",
    "    predictions, labels = eval_pred\n",
    "    predictions = np.argmax(predictions, axis=1)\n",
    "    # Calculate accuracy using the evaluate library\n",
    "    return accuracy.compute(predictions=predictions, references=labels)\n"
   ]
  },
  {
   "cell_type": "markdown",
   "id": "55ef163a-57fc-4ab6-9132-e73c2e66da98",
   "metadata": {},
   "source": [
    "## 4. Train"
   ]
  },
  {
   "cell_type": "code",
   "execution_count": 21,
   "id": "bb81edce-a13b-44e0-aab8-12880594421f",
   "metadata": {},
   "outputs": [
    {
     "name": "stdout",
     "output_type": "stream",
     "text": [
      "WARNING:tensorflow:From C:\\Anaconda\\envs\\aiml\\Lib\\site-packages\\tf_keras\\src\\losses.py:2976: The name tf.losses.sparse_softmax_cross_entropy is deprecated. Please use tf.compat.v1.losses.sparse_softmax_cross_entropy instead.\n",
      "\n"
     ]
    },
    {
     "name": "stderr",
     "output_type": "stream",
     "text": [
      "Some weights of ViTForImageClassification were not initialized from the model checkpoint at google/vit-base-patch16-224-in21k and are newly initialized: ['classifier.bias', 'classifier.weight']\n",
      "You should probably TRAIN this model on a down-stream task to be able to use it for predictions and inference.\n"
     ]
    }
   ],
   "source": [
    "#Load ViT with AutoModelForImageClassification. Specify the number of labels along with the number of expected labels, and the label mappings:\n",
    "from transformers import AutoModelForImageClassification, TrainingArguments, Trainer\n",
    "\n",
    "model = AutoModelForImageClassification.from_pretrained(\n",
    "    checkpoint,\n",
    "    num_labels=len(labels),\n",
    "    id2label=id2label,\n",
    "    label2id=label2id,\n",
    ")"
   ]
  },
  {
   "cell_type": "code",
   "execution_count": 29,
   "id": "0a623743-a12f-4c9c-b88e-18adb7dbc247",
   "metadata": {},
   "outputs": [],
   "source": [
    "\n",
    "from transformers import TrainingArguments, Trainer\n",
    "\n",
    "training_args = TrainingArguments(\n",
    "    output_dir=\"my_awesome_emotion_identifier_model\",\n",
    "    remove_unused_columns=False,\n",
    "    eval_strategy=\"epoch\",\n",
    "    save_strategy=\"epoch\",\n",
    "    learning_rate=5e-5,\n",
    "    per_device_train_batch_size=16,\n",
    "    gradient_accumulation_steps=4,\n",
    "    per_device_eval_batch_size=16,\n",
    "    num_train_epochs=3,\n",
    "    warmup_ratio=0.1,\n",
    "    logging_steps=10,\n",
    "    load_best_model_at_end=True,\n",
    "    metric_for_best_model=\"accuracy\",\n",
    "    push_to_hub=True,\n",
    ")\n",
    "\n",
    "trainer = Trainer(\n",
    "    model=model,\n",
    "    args=training_args,\n",
    "    data_collator=data_collator,\n",
    "    train_dataset=dataset[\"train\"],\n",
    "    eval_dataset=dataset[\"test\"],\n",
    "    tokenizer=image_processor,\n",
    "    compute_metrics=compute_metrics,\n",
    ")\n",
    "\n"
   ]
  },
  {
   "cell_type": "code",
   "execution_count": 30,
   "id": "489aa4e6-dfe6-48c3-a0b0-23715fdf2e99",
   "metadata": {},
   "outputs": [
    {
     "name": "stdout",
     "output_type": "stream",
     "text": [
      "Test checkpoint saved successfully.\n"
     ]
    }
   ],
   "source": [
    "\n",
    "import torch\n",
    "import os\n",
    "\n",
    "# Define the directory and file path\n",
    "output_dir = \"my_awesome_food_model\"\n",
    "test_path = os.path.join(output_dir, \"test_checkpoint.pth\")\n",
    "\n",
    "# Create the directory if it doesn't exist\n",
    "os.makedirs(output_dir, exist_ok=True)\n",
    "\n",
    "# Define the object to save\n",
    "test_obj = {\"test\": \"data\"}\n",
    "\n",
    "# Save the object\n",
    "torch.save(test_obj, test_path)\n",
    "print(\"Test checkpoint saved successfully.\")\n",
    "\n"
   ]
  },
  {
   "cell_type": "code",
   "execution_count": 31,
   "id": "545129d5-8b60-412f-a8ee-6e28d5e99a7d",
   "metadata": {},
   "outputs": [
    {
     "data": {
      "text/html": [
       "\n",
       "    <div>\n",
       "      \n",
       "      <progress value='30' max='30' style='width:300px; height:20px; vertical-align: middle;'></progress>\n",
       "      [30/30 1:33:15, Epoch 3/3]\n",
       "    </div>\n",
       "    <table border=\"1\" class=\"dataframe\">\n",
       "  <thead>\n",
       " <tr style=\"text-align: left;\">\n",
       "      <th>Epoch</th>\n",
       "      <th>Training Loss</th>\n",
       "      <th>Validation Loss</th>\n",
       "      <th>Accuracy</th>\n",
       "    </tr>\n",
       "  </thead>\n",
       "  <tbody>\n",
       "    <tr>\n",
       "      <td>1</td>\n",
       "      <td>1.990000</td>\n",
       "      <td>1.972334</td>\n",
       "      <td>0.225000</td>\n",
       "    </tr>\n",
       "    <tr>\n",
       "      <td>2</td>\n",
       "      <td>1.894200</td>\n",
       "      <td>1.876151</td>\n",
       "      <td>0.381250</td>\n",
       "    </tr>\n",
       "    <tr>\n",
       "      <td>3</td>\n",
       "      <td>1.803600</td>\n",
       "      <td>1.822451</td>\n",
       "      <td>0.387500</td>\n",
       "    </tr>\n",
       "  </tbody>\n",
       "</table><p>"
      ],
      "text/plain": [
       "<IPython.core.display.HTML object>"
      ]
     },
     "metadata": {},
     "output_type": "display_data"
    },
    {
     "data": {
      "text/plain": [
       "TrainOutput(global_step=30, training_loss=1.8959239323933919, metrics={'train_runtime': 5751.6529, 'train_samples_per_second': 0.334, 'train_steps_per_second': 0.005, 'total_flos': 1.4879262111694848e+17, 'train_loss': 1.8959239323933919, 'epoch': 3.0})"
      ]
     },
     "execution_count": 31,
     "metadata": {},
     "output_type": "execute_result"
    }
   ],
   "source": [
    "trainer.train()"
   ]
  },
  {
   "cell_type": "code",
   "execution_count": 32,
   "id": "a454090d-7b2c-4f86-b351-67044fc03be5",
   "metadata": {},
   "outputs": [
    {
     "data": {
      "text/plain": [
       "CommitInfo(commit_url='https://huggingface.co/Deepri24/my_awesome_emotion_identifier_model/commit/f6367dacf99f72a1291cca8613769d2cad6005cd', commit_message='End of training', commit_description='', oid='f6367dacf99f72a1291cca8613769d2cad6005cd', pr_url=None, repo_url=RepoUrl('https://huggingface.co/Deepri24/my_awesome_emotion_identifier_model', endpoint='https://huggingface.co', repo_type='model', repo_id='Deepri24/my_awesome_emotion_identifier_model'), pr_revision=None, pr_num=None)"
      ]
     },
     "execution_count": 32,
     "metadata": {},
     "output_type": "execute_result"
    }
   ],
   "source": [
    "#share your model to the hub so that it can be used by everyone \n",
    "trainer.push_to_hub()"
   ]
  },
  {
   "cell_type": "markdown",
   "id": "3cd54fb8-12db-4b93-94df-f18c57622647",
   "metadata": {},
   "source": [
    "#### Congratulations! You have fine-tuned your model and shared it on the 🤗 Hub. You can now use it for inference!"
   ]
  },
  {
   "cell_type": "markdown",
   "id": "deb40919-2f20-48aa-9776-a221ff5a6d0e",
   "metadata": {},
   "source": [
    "## 5. Inference "
   ]
  },
  {
   "cell_type": "code",
   "execution_count": 51,
   "id": "95292270-074e-4930-ad0a-050ac12800d9",
   "metadata": {},
   "outputs": [
    {
     "data": {
      "application/vnd.jupyter.widget-view+json": {
       "model_id": "98a2c39fc5d14e5aa275a00aac97e585",
       "version_major": 2,
       "version_minor": 0
      },
      "text/plain": [
       "Resolving data files:   0%|          | 0/800 [00:00<?, ?it/s]"
      ]
     },
     "metadata": {},
     "output_type": "display_data"
    },
    {
     "data": {
      "image/jpeg": "[encoded data removed]",
      "image/png": "[encoded data removed]",
      "text/plain": [
       "<PIL.JpegImagePlugin.JpegImageFile image mode=RGB size=96x96>"
      ]
     },
     "metadata": {},
     "output_type": "display_data"
    }
   ],
   "source": [
    "#Load an image you’d like to run inference on:\n",
    "\n",
    "#loading the validation split of the dataset but only the first 10 samples.\n",
    "ds = load_dataset('FastJobs/Visual_Emotional_Analysis', split=\"train[:10]\")\n",
    "\n",
    "#ds[\"image\"]: In a dictionary-like structure, you can access data by specifying the key, which is the column name, image here\n",
    "#[0]: selects the first image from loaded 10 samples of subset\n",
    "image = ds[\"image\"][9]\n",
    "display(image)"
   ]
  },
  {
   "cell_type": "markdown",
   "id": "38e82029-c98d-406e-add6-06746b7bb39a",
   "metadata": {},
   "source": [
    "#### Two ways to run inference - via pipeline or Pytorch/Tensorflow\n",
    "\n"
   ]
  },
  {
   "cell_type": "code",
   "execution_count": 52,
   "id": "8a9cf4f5-8ae4-4157-870e-f89786efacb5",
   "metadata": {},
   "outputs": [
    {
     "data": {
      "text/plain": [
       "[{'label': 'anger', 'score': 0.583796501159668},\n",
       " {'label': 'sad', 'score': 0.5656100511550903},\n",
       " {'label': 'disgust', 'score': 0.519493579864502},\n",
       " {'label': 'fear', 'score': 0.49906107783317566},\n",
       " {'label': 'surprise', 'score': 0.4989865720272064}]"
      ]
     },
     "execution_count": 52,
     "metadata": {},
     "output_type": "execute_result"
    }
   ],
   "source": [
    "# a) Simplest way to try out finetuned modelis to use it in a pipeline(). Instantiate a pipeline for task and the model, and pass your image to it:\n",
    "\n",
    "from transformers import pipeline\n",
    "\n",
    "classifier = pipeline(\"image-classification\", model=\"my_awesome_emotion_identifier_model\")\n",
    "classifier(image)\n"
   ]
  },
  {
   "cell_type": "markdown",
   "id": "2948c5e2-650b-4e17-a68c-573b5ac98712",
   "metadata": {},
   "source": [
    "##### Pytorch Method"
   ]
  },
  {
   "cell_type": "code",
   "execution_count": 53,
   "id": "59c24fc2-2c7a-49ab-8846-b4b9ad525bbf",
   "metadata": {},
   "outputs": [],
   "source": [
    "# b) Or you can also manually replicate the results of the pipeline using Pytorch/Tensorflow, I am using Pytorch here:\n",
    "#Load an image processor to preprocess the image and return the input as PyTorch tensors:\n",
    "\n",
    "from transformers import AutoImageProcessor\n",
    "import torch\n",
    "\n",
    "image_processor = AutoImageProcessor.from_pretrained(\"my_awesome_emotion_identifier_model\")\n",
    "inputs = image_processor(image, return_tensors=\"pt\")\n",
    "\n"
   ]
  },
  {
   "cell_type": "code",
   "execution_count": 54,
   "id": "2ae00c45-9652-41bb-bb8e-a2132c8df404",
   "metadata": {},
   "outputs": [],
   "source": [
    "#Pass your inputs to the model and return the logits:\n",
    "from transformers import AutoModelForImageClassification\n",
    "\n",
    "model = AutoModelForImageClassification.from_pretrained(\"my_awesome_emotion_identifier_model\")\n",
    "with torch.no_grad(): #prevent PyTorch from tracking gradients, which is not needed during inference/ prediction to save memory/computation\n",
    "    logits = model(**inputs).logits\n",
    "\n",
    "#logits are the unnormalized output scores of the model, representing the model's confidence for each class before converting them to probabilities. They serve as the basis for determining the predicted class for a given input.\n"
   ]
  },
  {
   "cell_type": "code",
   "execution_count": 55,
   "id": "6665942f-09fd-4355-95bd-ca3f8134b6b1",
   "metadata": {},
   "outputs": [
    {
     "data": {
      "text/plain": [
       "'anger'"
      ]
     },
     "execution_count": 55,
     "metadata": {},
     "output_type": "execute_result"
    }
   ],
   "source": [
    "#Get the predicted label with the highest probability, and use the model’s id2label mapping to convert it to a label:\n",
    "predicted_label = logits.argmax(-1).item()\n",
    "model.config.id2label[predicted_label]\n",
    "\n",
    "#The code effectively determines which class the model predicts for a given input by:\n",
    "# - Finding the index of the class with the highest logit score (the most confident prediction).\n",
    "#- Using that index to look up the corresponding class label from a predefined mapping"
   ]
  },
  {
   "cell_type": "code",
   "execution_count": null,
   "id": "8360fbfb-06ad-4858-a0e0-85f5fa0d514a",
   "metadata": {},
   "outputs": [],
   "source": []
  }
 ],
 "metadata": {
  "kernelspec": {
   "display_name": "Python 3 (ipykernel)",
   "language": "python",
   "name": "python3"
  },
  "language_info": {
   "codemirror_mode": {
    "name": "ipython",
    "version": 3
   },
   "file_extension": ".py",
   "mimetype": "text/x-python",
   "name": "python",
   "nbconvert_exporter": "python",
   "pygments_lexer": "ipython3",
   "version": "3.12.4"
  }
 },
 "nbformat": 4,
 "nbformat_minor": 5
}
